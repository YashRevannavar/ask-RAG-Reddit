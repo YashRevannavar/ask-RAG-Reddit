{
 "cells": [
  {
   "cell_type": "code",
   "id": "initial_id",
   "metadata": {
    "collapsed": true,
    "ExecuteTime": {
     "end_time": "2024-08-04T08:44:06.544630Z",
     "start_time": "2024-08-04T08:44:05.832121Z"
    }
   },
   "source": "!pip install --upgrade --quiet  praw",
   "outputs": [
    {
     "name": "stdout",
     "output_type": "stream",
     "text": [
      "\r\n",
      "\u001B[1m[\u001B[0m\u001B[34;49mnotice\u001B[0m\u001B[1;39;49m]\u001B[0m\u001B[39;49m A new release of pip is available: \u001B[0m\u001B[31;49m24.1.2\u001B[0m\u001B[39;49m -> \u001B[0m\u001B[32;49m24.2\u001B[0m\r\n",
      "\u001B[1m[\u001B[0m\u001B[34;49mnotice\u001B[0m\u001B[1;39;49m]\u001B[0m\u001B[39;49m To update, run: \u001B[0m\u001B[32;49mpip install --upgrade pip\u001B[0m\r\n"
     ]
    }
   ],
   "execution_count": 12
  },
  {
   "metadata": {
    "ExecuteTime": {
     "end_time": "2024-08-04T08:40:09.880263Z",
     "start_time": "2024-08-04T08:40:09.878331Z"
    }
   },
   "cell_type": "code",
   "source": [
    "import praw\n",
    "from pydantic import BaseModel, Field\n",
    "from typing import List, Dict, Optional\n",
    "from extras.constants import *\n",
    "from pprint import pprint\n"
   ],
   "id": "407bdbc3ab3548f0",
   "outputs": [],
   "execution_count": 3
  },
  {
   "metadata": {
    "ExecuteTime": {
     "end_time": "2024-08-04T08:41:35.232913Z",
     "start_time": "2024-08-04T08:41:33.798915Z"
    }
   },
   "cell_type": "code",
   "source": [
    "# Initialize the Reddit API client\n",
    "reddit = praw.Reddit(\n",
    "    client_id=REDDIT_CLIENT_ID,\n",
    "    client_secret=REDDIT_CLIENT_SECRET,\n",
    "    user_agent=REDDIT_USER_AGENT\n",
    ")\n",
    "\n",
    "class Comment(BaseModel):\n",
    "    author: Optional[str] = None\n",
    "    body: str\n",
    "    score: int\n",
    "\n",
    "class PostInfo(BaseModel):\n",
    "    title: str\n",
    "    url: str\n",
    "    subreddit: str\n",
    "    posted_by: Optional[str] = None\n",
    "    comments: List[Comment]\n",
    "\n",
    "class QueryResult(BaseModel):\n",
    "    query: str\n",
    "    posts: List[PostInfo]\n",
    "\n",
    "def get_top_comments(post, limit=5):\n",
    "    # Retrieve top-level comments\n",
    "    \n",
    "    post.comments.replace_more(limit=limit)\n",
    "    comments = post.comments.list()\n",
    "\n",
    "    # Sort comments by score and get top comments\n",
    "    top_comments = sorted(comments, key=lambda c: c.score, reverse=True)[:limit]\n",
    "\n",
    "    comment_info = []\n",
    "    for comment in top_comments:\n",
    "        comment_info.append(Comment(\n",
    "            author=str(comment.author) if comment.author else None,\n",
    "            body=comment.body,\n",
    "            score=comment.score\n",
    "        ))\n",
    "\n",
    "    return comment_info\n",
    "\n",
    "def get_top_posts(query, limit=2):\n",
    "    # Search for the query\n",
    "    search_results = reddit.subreddit('all').search(query, sort='relevance', limit=limit)\n",
    "\n",
    "    posts = []\n",
    "    for post in search_results:\n",
    "        post_info = PostInfo(\n",
    "            title=post.title,\n",
    "            url=post.url,\n",
    "            subreddit=post.subreddit.display_name,\n",
    "            posted_by=str(post.author) if post.author else None,\n",
    "            comments=get_top_comments(post)\n",
    "        )\n",
    "        posts.append(post_info)\n",
    "\n",
    "    return QueryResult(query=query, posts=posts)\n",
    "\n",
    "\n",
    "query = 'how to learn python'\n",
    "result = get_top_posts(query)\n",
    "\n",
    "# Print result as a dict\n",
    "result_dict = result.dict()\n",
    "print(result_dict)\n"
   ],
   "id": "921e733a49b745f1",
   "outputs": [
    {
     "name": "stdout",
     "output_type": "stream",
     "text": [
      "{'query': 'how to learn python', 'posts': [{'title': 'How to learn python?', 'url': 'https://www.reddit.com/r/devops/comments/17s813q/how_to_learn_python/', 'subreddit': 'devops', 'posted_by': 'ak17hg', 'comments': [{'author': 'Bloodrose_GW2', 'body': 'My usual way is: pick a problem and start coding.', 'score': 37}, {'author': None, 'body': 'Read in order : \\n\\n- Learn Python 3 The Hard Way\\n- Learn More Python 3 The Hard Way\\n- Fluent Python \\n- Effective Python', 'score': 13}, {'author': 'JetreL', 'body': 'it truly hurts me to say this but ... *this is the way!*', 'score': 11}, {'author': 'Leonjy92', 'body': 'Try out the Udemy course Automate The Boring Stuff in Python. It has great reviews and teaches you the fundamental while guiding you in creating projects that you might find useful in real life.', 'score': 10}, {'author': 'gingimli', 'body': 'CS50P is the Python one, the original CS50 is mostly C and then switches to Python towards the middle. I think the original CS50 is much better though, it also teaches things like memory, data structures, and algorithms and how to actually think like a programmer. CS50P is mostly just Python syntax.', 'score': 9}]}, {'title': 'How to learn Python EFFECTIVELY?', 'url': 'https://www.reddit.com/r/learnpython/comments/18xaeou/how_to_learn_python_effectively/', 'subreddit': 'learnpython', 'posted_by': 'Organic_Radio8936', 'comments': [{'author': 'muggledave', 'body': 'I think the point where i started learning the most was when i started doing projects that i would use. Either tools or games or whatever. Because this is where i would use my program enough to break it and then find a more robust way to code it, or i would want a new feature and realize that my spaghetti code made it hard to understand or change anything.  My first program tool, which i still use, was a rubiks cube timer that saves the solve times to excel. A year into using it, i force quit the program because it was frozen, and i corrupted my excel file... \\n\\nIm currently trying to program pokemon from scratch, mainly to learn OOP. Ive attempted this a few times now, but had to restart because of spaghetti code or other issues. But each time i gained insight into how to better organize the code because i know what to plan for and what to avoid. Also this isn\\'t just trial and error learning in a vacuum, im using YouTube and stack overflow and ai the whole time and trying to implement what the resources say is the best way. \\n\\nI just think it\\'s the times when i do all that and still hit a dead end that teach me the most, because its when i have to think about how i think about programming. There\\'s a ton of ways to program a solution to a particular problem, but i think the thing that makes code \"good\" is thinking about how it\\'ll be used, how it may need to change later, whether it\\'s reusable, whether it\\'s readable, and other metrics that i would never think of until i do it wrong and think \"darn. What do i need to learn in order to avoid this issue next time?\"', 'score': 19}, {'author': 'HWNubs', 'body': 'I think folks here have nailed all the right points. I was sceptical at first but I took most of the same advices and it looks like it’s paying a bit of dividends. \\n\\nWent from 0 experience to building out a financial model in about 40 hours. I spent time figuring out issues though, i spent about 5 hours trying to figure out a simple problem I having with date formatting. \\n\\nThe code is ‘ok’, used functions wherever made sense but I am sure it could be more efficient. I plan to come back at it once I know more.', 'score': 7}, {'author': 'Slight-Living-8098', 'body': 'Learn something -> do something with it -> repeat', 'score': 6}, {'author': 'odaiwai', 'body': \"It's the use of ChatGPT, not autocomplete that is failing there.\", 'score': 6}, {'author': 'planetaryplanner', 'body': 'stop just copying the code from examples and start tinkering with it. if this were a math class, you’ve only been rewriting formulas of the board. you’re not looking to see how everything interacts and can be used in different ways. \\n\\nexperiment. break it. fix it.', 'score': 5}]}]}\n"
     ]
    }
   ],
   "execution_count": 11
  },
  {
   "metadata": {
    "ExecuteTime": {
     "end_time": "2024-08-04T08:40:45.919314Z",
     "start_time": "2024-08-04T08:40:45.917574Z"
    }
   },
   "cell_type": "code",
   "source": "pprint(result_dict.keys())",
   "id": "39795da03fbd013b",
   "outputs": [
    {
     "name": "stdout",
     "output_type": "stream",
     "text": [
      "dict_keys(['query', 'posts'])\n"
     ]
    }
   ],
   "execution_count": 5
  },
  {
   "metadata": {
    "ExecuteTime": {
     "end_time": "2024-08-04T08:41:15.372626Z",
     "start_time": "2024-08-04T08:41:15.370091Z"
    }
   },
   "cell_type": "code",
   "source": "result_dict['posts']",
   "id": "154a1359944054c6",
   "outputs": [
    {
     "data": {
      "text/plain": [
       "[{'title': 'I’m the hacker that brought down North Korea’s Internet For Over A Week. AMA',\n",
       "  'url': 'https://www.reddit.com/r/IAmA/comments/1divlp3/im_the_hacker_that_brought_down_north_koreas/',\n",
       "  'subreddit': 'IAmA',\n",
       "  'posted_by': 'dotslashpunk',\n",
       "  'comments': [{'author': 'dotslashpunk',\n",
       "    'body': 'It was. The actual attack - pretty simple and easy. The recon required to know WHAT to attack was the kind of creative part. I\\'m not a super genius computer hacker like the people below are claiming I\\'m trying to act like... I\\'m actually a pretty normal dude. I\\'m a decent hacker because I fucking love it and live for it, but that\\'s all I can really say about me and my abilities.\\n\\nSo here\\'s how it went down. At first yep, it was just your basic DoS attack. Not just DDoS, they had outdated nginx servers and I found some CVEs that I could write some n-days for for memory exhaustion. That was nifty. I also hit their web servers with slow polling attacks just for additional instability. Then there was the just mass bandwidth attack (DDoS) that hit their DNS, MX, and other similar things.\\n\\nHowever the (kind of) unique part was that in additional reconaissance I kept noticing these two IP addresses that would come up. I assumed they were some sort of filter, maybe even a censoring filter? Although that didn\\'t make complete sense because their people don\\'t have access to the Internet, only the elite (aka government). So what I did was I rented a bunch of VPSs surrounding the country and some in China specifically (in case there was some special routing from there). I did a traceroute on all of them with some basic distributed computing tools. Sure enough ANYWHERE I was coming from went through those two assets. They were routers. In other words I found their only two points of egress and ingress to the country.\\n\\nSo I focused most of my attention on those and brought them down with again, yes, just simple bandwidth exhaustion attacks via some open ports. I made requests that would take up a lot of their bandwidth and not a lot of mine (amplifying attack). It worked, when i saw that \"no route to host\" for literally any host within country I knew I\\'d taken their routing completely down. It was a bit of a holy shit moment.\\n\\n  \\nThe attack itself was absolutely not complicated. It was definitely far more complicated figuring out WHAT to attack. Most DDoS is just straightforward stupid shit, but if you take the time to understand the shape of the network it makes a huge difference as it did in this case. So nah, not that complicated, just kinda creative IMO. And no that doesn\\'t mean i think I\\'m some kind of super hacker. Just that I planned well, did recon, and executed.',\n",
       "    'score': 5129},\n",
       "   {'author': 'dotslashpunk',\n",
       "    'body': 'honestly i’ve been asked this a lot. And I can’t really tell haha. I used to say nah it wasn’t that hard. But then I told people how i did it and they were like “well ok, it wasn’t hard but only because you’re trained in this….”\\n\\nI would say it was unconventional and maybe creative but not HARD.',\n",
       "    'score': 4264},\n",
       "   {'author': 'dotslashpunk',\n",
       "    'body': 'so far the only “consequences” is every DoD entity and intelligence agencies want to know how I did it. I’ve been presenting it to them for a little bit now.\\n\\nNothing negative yet honestly. Everyone seems to sort of like it but cannot say that officially. Honestly, I expected a LOT more negativity just because that’s the natural order of things.',\n",
       "    'score': 3234},\n",
       "   {'author': 'Calculonx',\n",
       "    'body': 'Probably banned from traveling to NK for vacation',\n",
       "    'score': 3030},\n",
       "   {'author': 'dotslashpunk',\n",
       "    'body': \"lol, no I only say that during either sex or when I'm able to join a meeting successfully with my microphone and speakers actually working. Both are rare.\",\n",
       "    'score': 2894}]},\n",
       " {'title': 'Using the average scores from IMDb, Rotten Tomatoes (Critic & Users), Metacritic (Critic & Users) and Letterboxd, as well as data from iCheckMovies and IMDb, I was able to come up with the 1001 GREATEST MOVIES OF ALL TIME.',\n",
       "  'url': 'https://www.reddit.com/r/movies/comments/3evqxx/using_the_average_scores_from_imdb_rotten/',\n",
       "  'subreddit': 'movies',\n",
       "  'posted_by': 'StopReadinMyUsername',\n",
       "  'comments': [{'author': 'thndrstrk',\n",
       "    'body': \"I know I'm a tasteless clod, but I find it hard to get into movies from the 1930's. \\n\\nEdit: well I definitely have some recommendations I'll check out. \",\n",
       "    'score': 2620},\n",
       "   {'author': 'Mellowde',\n",
       "    'body': 'You should come up with a script to check out what\\'s currently on Netflix or Hulu at any given time, and create a secondary ranking not limited to 1,001 movies. Then create a website that constantly shows the best of what\\'s on Netflix and Hulu at any given time. You could even do it with shows by genre. That\\'s a site I\\'d visit multiple times a week.\\n\\nedit: Since there seems to be some interest in the concept, you could take it even further if things got serious. Long term, you could work with Netflix & Hulu to create a service that offers a \"channel\" or \"channels\" where you merge their content. You could incentivize the partnership by providing easy ways to sign up and making suggestions for shows they can\\'t currently get, that they could with a new subscription, etc.',\n",
       "    'score': 1460},\n",
       "   {'author': None, 'body': '[deleted]', 'score': 1076},\n",
       "   {'author': None,\n",
       "    'body': 'Dark Knight at 19 come on man \\n\\nEDIT: WOW, thanks kind stranger! \\n\\nEDIT: How did this explode so much? I hope all you upvoters and gilders dont think i want Dark Knight higher lol',\n",
       "    'score': 1059},\n",
       "   {'author': 'StopReadinMyUsername',\n",
       "    'body': \"Going off the list, I was able to find the **Top 40 Directors of All Time**.  \\nObviously this is little more open than the main list. But I found it interesting enough to include:  \\n  \\n\\nRank | Director ______| Top 1001 | Top 500 | Top 250 | Top 100 | Top 25 | Total | Highest Ranked Movie [Rank] _________|\\n---|------|---|---|---|---|---|---|---|\\n1\\t|\\tAlfred Hitchcock\\t|\\t13\\t|\\t12\\t|\\t8\\t|\\t4\\t|\\t1\\t|\\t38\\t|\\tRear Window (1954) [18]\\n2\\t|\\tAkira Kurosawa\\t|\\t13\\t|\\t9\\t|\\t6\\t|\\t5\\t|\\t2\\t|\\t35\\t|\\tThe Seven Samurai (1954) [02]\\n3\\t|\\tStanley Kubrick\\t|\\t11\\t|\\t9\\t|\\t8\\t|\\t4\\t|\\t1\\t|\\t33\\t|\\tDr. Strangelove (1964) [15]\\n4\\t|\\tSteven Spielberg\\t|\\t13\\t|\\t9\\t|\\t4\\t|\\t3\\t|\\t1\\t|\\t30\\t|\\tSchindler’s List (1993) [09]\\n5\\t|\\tMartin Scorsese\\t|\\t12\\t|\\t8\\t|\\t4\\t|\\t3\\t|\\t2\\t|\\t29\\t|\\tGoodfellas (1990) [13]\\n6\\t|\\tBilly Wilder\\t|\\t9\\t|\\t7\\t|\\t5\\t|\\t5\\t|\\t1\\t|\\t27\\t|\\tSunset Boulevard (1950) [08]\\n7\\t|\\tCharles Chaplin\\t|\\t8\\t|\\t6\\t|\\t5\\t|\\t5\\t|\\t2\\t|\\t26\\t|\\tModern Times (1936) [11]\\n8\\t|\\tIngmar Bergman\\t|\\t11\\t|\\t7\\t|\\t4\\t|\\t4\\t|\\t0\\t|\\t26\\t|\\tPersona (1966) [35]\\n9\\t|\\tHayao Miyazaki\\t|\\t10\\t|\\t7\\t|\\t3\\t|\\t2\\t|\\t1\\t|\\t23\\t|\\tSpirited Away (2001) [10]\\n10\\t|\\tJoel & Ethan Coen\\t|\\t11\\t|\\t7\\t|\\t2\\t|\\t0\\t|\\t0\\t|\\t20\\t|\\tFargo (1996) [123]\\n11\\t|\\tFrancis Ford Coppola\\t|\\t4\\t|\\t4\\t|\\t4\\t|\\t3\\t|\\t3\\t|\\t18\\t|\\tThe Godfather (1972) [01]\\n12\\t|\\tSergio Leone \\t|\\t5\\t|\\t5\\t|\\t4\\t|\\t2\\t|\\t2\\t|\\t18\\t|\\tThe Good, the Bad and the Ugly (1966) [06]\\n13\\t|\\tQuentin Tarantino\\t|\\t7\\t|\\t4\\t|\\t4\\t|\\t2\\t|\\t1\\t|\\t18\\t|\\tPulp Fiction (1994) [04]\\n14\\t|\\tChristopher Nolan\\t|\\t7\\t|\\t6\\t|\\t3\\t|\\t1\\t|\\t1\\t|\\t18\\t|\\tThe Dark Knight (2008) [19]\\n15\\t|\\tFederico Fellini\\t|\\t6\\t|\\t5\\t|\\t4\\t|\\t2\\t|\\t0\\t|\\t17\\t|\\t8 ½ (1963) [79]\\n16\\t|\\tAndrei Tarkovsky\\t|\\t7\\t|\\t5\\t|\\t4\\t|\\t1\\t|\\t0\\t|\\t17\\t|\\tStalker (1979) [42]\\n17\\t|\\tWoody Allen\\t|\\t8\\t|\\t4\\t|\\t3\\t|\\t1\\t|\\t0\\t|\\t16\\t|\\tAnnie Hall (1977) [93]\\n18\\t|\\tSidney Lumet\\t|\\t6\\t|\\t4\\t|\\t3\\t|\\t1\\t|\\t1\\t|\\t15\\t|\\t12 Angry Men (1957) [05]\\n19\\t|\\tRichard Linklater\\t|\\t6\\t|\\t5\\t|\\t4\\t|\\t0\\t|\\t0\\t|\\t15\\t|\\tBefore Sunset (2004) [104]\\n20\\t|\\tPeter Jackson\\t|\\t5\\t|\\t3\\t|\\t3\\t|\\t3\\t|\\t0\\t|\\t14\\t|\\tThe Fellowship of the Ring (2001) [51]\\n21\\t|\\tDavid Lean\\t|\\t6\\t|\\t3\\t|\\t2\\t|\\t2\\t|\\t1\\t|\\t14\\t|\\tLawrence of Arabia (1962) [17]\\n22\\t|\\tFrank Capra \\t|\\t5\\t|\\t4\\t|\\t3\\t|\\t2\\t|\\t0\\t|\\t14\\t|\\tIt’s a Wonderful Life (1946) [50]\\n23\\t|\\tRoman Polanski\\t|\\t6\\t|\\t4\\t|\\t3\\t|\\t1\\t|\\t0\\t|\\t14\\t|\\tChinatown (1974) [36]\\n24\\t|\\tDavid Fincher\\t|\\t6\\t|\\t4\\t|\\t3\\t|\\t1\\t|\\t0\\t|\\t14\\t|\\tFight Club (1999) [98]\\n25\\t|\\tHoward Hawks\\t|\\t7\\t|\\t4\\t|\\t3\\t|\\t0\\t|\\t0\\t|\\t14\\t|\\tThe Big Sleep (1946) [166]\\n26\\t|\\tJohn Ford\\t|\\t7\\t|\\t4\\t|\\t3\\t|\\t0\\t|\\t0\\t|\\t14\\t|\\tThe Grapes of Wrath (1940) [175]\\n27\\t|\\tJohn Huston\\t|\\t6\\t|\\t4\\t|\\t2\\t|\\t1\\t|\\t0\\t|\\t13\\t|\\tThe Treasure of the Sierra Madre (1948) [61]\\n28\\t|\\tDavid Lynch\\t|\\t6\\t|\\t4\\t|\\t3\\t|\\t0\\t|\\t0\\t|\\t13\\t|\\tThe Straight Story (1999) [223]\\n29\\t|\\tFritz Lang\\t|\\t5\\t|\\t2\\t|\\t2\\t|\\t2\\t|\\t1\\t|\\t12\\t|\\tM (1931) [14]\\n30\\t|\\tClint Eastwood\\t|\\t8\\t|\\t3\\t|\\t1\\t|\\t0\\t|\\t0\\t|\\t12\\t|\\tUnforgiven (1992) [117]\\n31\\t|\\tOrson Wells\\t|\\t5\\t|\\t2\\t|\\t2\\t|\\t2\\t|\\t0\\t|\\t11\\t|\\tCitizen Kane (1941) [34]\\n32\\t|\\tPedro Almodovar\\t|\\t6\\t|\\t3\\t|\\t2\\t|\\t0\\t|\\t0\\t|\\t11\\t|\\tAll About My Mother (1999) [238]\\n33\\t|\\tLuis Bunuel\\t|\\t6\\t|\\t5\\t|\\t0\\t|\\t0\\t|\\t0\\t|\\t11\\t|\\tThe Exterminating Angel (1962) [280]\\n34\\t|\\tTerry Gilliam\\t|\\t5\\t|\\t2\\t|\\t2\\t|\\t1\\t|\\t0\\t|\\t10\\t|\\tMonty Python and the Holy Grail (1975) [77]\\n35\\t|\\tRob Reiner\\t|\\t5\\t|\\t3\\t|\\t2\\t|\\t0\\t|\\t0\\t|\\t10\\t|\\tThis Is Spinal Tap (1984) [178]\\n36\\t|\\tWilliam Wyler\\t|\\t5\\t|\\t3\\t|\\t2\\t|\\t0\\t|\\t0\\t|\\t10\\t|\\tThe Best Years of Our Lives (1946) [179]\\n37\\t|\\tBuster Keaton\\t|\\t6\\t|\\t1\\t|\\t1\\t|\\t1\\t|\\t0\\t|\\t9\\t|\\tThe General (1926) [81]\\n38\\t|\\tGeorge Cukor\\t|\\t5\\t|\\t2\\t|\\t2\\t|\\t0\\t|\\t0\\t|\\t9\\t|\\tThe Wizard of Oz (1939) [115]\\n39\\t|\\tPaul Thomas Anderson \\t|\\t5\\t|\\t3\\t|\\t1\\t|\\t0\\t|\\t0\\t|\\t9\\t|\\tThere Will Be Blood (2007) [134]\\n40\\t|\\tWes Anderson\\t|\\t5\\t|\\t4\\t|\\t0\\t|\\t0\\t|\\t0\\t|\\t9\\t|\\tThe Grand Budapest Hotel (2014) [251]\\n  \\nEDIT: Trying to make the table smaller so it doesn't overcrowd the comments section. Not having much luck but! Sorry guys.\\n\",\n",
       "    'score': 901}]}]"
      ]
     },
     "execution_count": 10,
     "metadata": {},
     "output_type": "execute_result"
    }
   ],
   "execution_count": 10
  }
 ],
 "metadata": {
  "kernelspec": {
   "display_name": "Python 3",
   "language": "python",
   "name": "python3"
  },
  "language_info": {
   "codemirror_mode": {
    "name": "ipython",
    "version": 2
   },
   "file_extension": ".py",
   "mimetype": "text/x-python",
   "name": "python",
   "nbconvert_exporter": "python",
   "pygments_lexer": "ipython2",
   "version": "2.7.6"
  }
 },
 "nbformat": 4,
 "nbformat_minor": 5
}
