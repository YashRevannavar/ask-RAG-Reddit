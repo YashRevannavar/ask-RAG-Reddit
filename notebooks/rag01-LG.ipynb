{
 "cells": [
  {
   "cell_type": "code",
   "id": "initial_id",
   "metadata": {
    "collapsed": true,
    "ExecuteTime": {
     "end_time": "2024-08-04T09:06:23.984333Z",
     "start_time": "2024-08-04T09:06:22.800188Z"
    }
   },
   "source": [
    "from dataloader.reddit_helper import QueryResult\n",
    "!pip install -Uq langgraph~=0.1.19\n",
    "!pip install -Uq pip"
   ],
   "outputs": [],
   "execution_count": 3
  },
  {
   "metadata": {
    "ExecuteTime": {
     "end_time": "2024-08-04T10:24:12.385028Z",
     "start_time": "2024-08-04T10:24:12.164003Z"
    }
   },
   "cell_type": "code",
   "source": [
    "from llm.llm_connector import get_mistral_model\n",
    "from dataloader.reddit_loader import get_top_posts, QueryResult"
   ],
   "id": "ebfa8f03b0e86a80",
   "outputs": [],
   "execution_count": 1
  },
  {
   "metadata": {
    "ExecuteTime": {
     "end_time": "2024-08-04T10:35:26.207482Z",
     "start_time": "2024-08-04T10:35:26.174230Z"
    }
   },
   "cell_type": "code",
   "source": [
    "from extras.constants import final_answer_prompt\n",
    "from llm.llm_helper import get_final_answer_llm\n",
    "from pprint import pprint\n",
    "\n",
    "model = get_mistral_model()\n",
    "final_answer_model = get_final_answer_llm(final_answer_prompt=final_answer_prompt, model=model)"
   ],
   "id": "4fdd1f6f5c60dc95",
   "outputs": [],
   "execution_count": 44
  },
  {
   "metadata": {
    "ExecuteTime": {
     "end_time": "2024-08-04T10:30:28.695398Z",
     "start_time": "2024-08-04T10:30:28.693356Z"
    }
   },
   "cell_type": "code",
   "source": [
    "\n",
    "from llm.llm_helper import FinalAnswer\n",
    "from typing import Annotated, Sequence, TypedDict\n",
    "\n",
    "\n",
    "class AgentState(TypedDict):\n",
    "    final_answer_llm: object\n",
    "    limit: int\n",
    "    query: str\n",
    "    reddit_data: QueryResult\n",
    "    final_answer: FinalAnswer"
   ],
   "id": "2d06d5df50a6c074",
   "outputs": [],
   "execution_count": 28
  },
  {
   "metadata": {},
   "cell_type": "markdown",
   "source": "# Reddit Node",
   "id": "42c1d3336ec8d094"
  },
  {
   "metadata": {
    "ExecuteTime": {
     "end_time": "2024-08-04T10:32:56.514211Z",
     "start_time": "2024-08-04T10:32:56.512523Z"
    }
   },
   "cell_type": "code",
   "source": [
    "def reddit_node(agent_state: AgentState):\n",
    "    print(f\"{'='*10} Reddit Node {'='*10}\")\n",
    "    agent_state[\"reddit_data\"]  = get_top_posts(agent_state[\"query\"], agent_state[\"limit\"])\n",
    "    return {\"reddit_data\": agent_state[\"reddit_data\"]}"
   ],
   "id": "3e59917c5134a2e4",
   "outputs": [],
   "execution_count": 39
  },
  {
   "metadata": {
    "ExecuteTime": {
     "end_time": "2024-08-04T10:28:33.919869Z",
     "start_time": "2024-08-04T10:28:33.918442Z"
    }
   },
   "cell_type": "code",
   "source": [
    " # reddit_response = reddit_node({\"limit\": 3, \"query\": \"How to learn python?\"})\n",
    "# pprint(reddit_response)"
   ],
   "id": "ffde1e197628bd42",
   "outputs": [],
   "execution_count": 16
  },
  {
   "metadata": {},
   "cell_type": "markdown",
   "source": "# LLM Node",
   "id": "83ee1bf051f2690d"
  },
  {
   "metadata": {
    "ExecuteTime": {
     "end_time": "2024-08-04T10:32:51.577119Z",
     "start_time": "2024-08-04T10:32:51.573946Z"
    }
   },
   "cell_type": "code",
   "source": [
    "def llm_node(agent_state: AgentState):\n",
    "    print(f\"{'='*10} LLM Node {'='*10}\")\n",
    "    model = agent_state[\"final_answer_llm\"]\n",
    "    query = agent_state[\"query\"]\n",
    "    reddit_data = agent_state[\"reddit_data\"]\n",
    "    response = model.invoke({\"query\": query, \"reddit_data\": reddit_data})\n",
    "    agent_state[\"final_answer\"] = response\n",
    "    return {\"final_answer\": response}   "
   ],
   "id": "7ed94b7b2e5282b4",
   "outputs": [],
   "execution_count": 38
  },
  {
   "metadata": {
    "ExecuteTime": {
     "end_time": "2024-08-04T10:29:55.150919Z",
     "start_time": "2024-08-04T10:29:55.149059Z"
    }
   },
   "cell_type": "code",
   "source": "# response = llm_node({\"final_answer_llm\": final_answer_model, \"query\": \"How to learn programming?\", \"reddit_data\": reddit_response})",
   "id": "423a099caaeccc3f",
   "outputs": [],
   "execution_count": 24
  },
  {
   "metadata": {
    "ExecuteTime": {
     "end_time": "2024-08-04T10:29:55.398927Z",
     "start_time": "2024-08-04T10:29:55.396598Z"
    }
   },
   "cell_type": "code",
   "source": "# pprint(response)",
   "id": "e30ddee88627a477",
   "outputs": [],
   "execution_count": 25
  },
  {
   "metadata": {
    "ExecuteTime": {
     "end_time": "2024-08-04T10:33:07.940334Z",
     "start_time": "2024-08-04T10:33:07.606638Z"
    }
   },
   "cell_type": "code",
   "source": [
    "from langgraph.graph import END, StateGraph, START\n",
    "\n",
    "workflow = StateGraph(AgentState)\n",
    "\n",
    "workflow.add_node(\"reddit_node\", reddit_node)\n",
    "workflow.add_node(\"llm_node\", llm_node)\n",
    "\n",
    "workflow.add_edge(START, \"reddit_node\")\n",
    "workflow.add_edge(\"reddit_node\", \"llm_node\")\n",
    "workflow.add_edge(\"llm_node\", END)\n",
    "\n",
    "\n",
    "graph = workflow.compile()\n",
    "from IPython.display import Image, display\n",
    "\n",
    "try:\n",
    "    display(Image(graph.get_graph(xray=True).draw_mermaid_png()))\n",
    "except Exception as e:\n",
    "    print(\"Error displaying graph\", e)"
   ],
   "id": "519007f1664b7d34",
   "outputs": [
    {
     "data": {
      "image/jpeg": "[encoded data removed]",
      "text/plain": [
       "<IPython.core.display.Image object>"
      ]
     },
     "metadata": {},
     "output_type": "display_data"
    }
   ],
   "execution_count": 40
  },
  {
   "metadata": {
    "ExecuteTime": {
     "end_time": "2024-08-04T10:38:12.971614Z",
     "start_time": "2024-08-04T10:37:55.764168Z"
    }
   },
   "cell_type": "code",
   "source": [
    "final_response = graph.invoke({\"limit\": 5, \n",
    "                               \"query\": \"How to build a Chair using red wood?\", \n",
    "                               \"final_answer_llm\": final_answer_model})"
   ],
   "id": "535e71ffa04be65",
   "outputs": [
    {
     "name": "stdout",
     "output_type": "stream",
     "text": [
      "========== Reddit Node ==========\n",
      "========== LLM Node ==========\n"
     ]
    }
   ],
   "execution_count": 50
  },
  {
   "metadata": {
    "ExecuteTime": {
     "end_time": "2024-08-04T10:39:08.083625Z",
     "start_time": "2024-08-04T10:39:08.081727Z"
    }
   },
   "cell_type": "code",
   "source": "pprint(final_response[\"final_answer\"])",
   "id": "ca49ecbde3653f9",
   "outputs": [
    {
     "name": "stdout",
     "output_type": "stream",
     "text": [
      "{'answer': 'To build a chair using red wood, you can follow these steps: 1. '\n",
      "           'Choose a design for your chair. You can find inspiration from '\n",
      "           'various sources, including the post by CozyBuilds on Reddit '\n",
      "           '(https://v.redd.it/8jahuabib8671) where they show how to lower '\n",
      "           'lounge chairs and keep them functional. 2. Gather your materials. '\n",
      "           'You will need red wood, which is a type of wood known for its '\n",
      "           'durability and rich color. You can also consider using other types '\n",
      "           'of wood or materials for certain parts of the chair, as suggested '\n",
      "           'by GarfieldEnthusiast in a post on Minecraftbuilds '\n",
      "           '(https://i.redd.it/sbry4cv1xv771). 3. Cut the wood to the '\n",
      "           'appropriate sizes and shapes for your chair design. You can use a '\n",
      "           'saw or other tools to do this. 4. Assemble the chair. You can use '\n",
      "           'nails, screws, or other fasteners to hold the pieces together. '\n",
      "           'Alternatively, you can try building the chair without using any '\n",
      "           'nails, as demonstrated by the skilled woodworker in this post on '\n",
      "           'Damnthatsinteresting (https://v.redd.it/azh6cfre0hm71). 5. Sand '\n",
      "           'and finish the chair. Once the chair is assembled, you can sand it '\n",
      "           'to smooth out any rough edges and apply a finish to protect the '\n",
      "           'wood and enhance its appearance. 6. Test the chair to make sure it '\n",
      "           'is sturdy and comfortable. You can adjust the design or make any '\n",
      "           'necessary repairs as needed.',\n",
      " 'reddit_users': ['CozyBuilds', 'GarfieldEnthusiast', 'Pazluz'],\n",
      " 'url': ['https://v.redd.it/8jahuabib8671',\n",
      "         'https://i.redd.it/sbry4cv1xv771',\n",
      "         'https://v.redd.it/azh6cfre0hm71']}\n"
     ]
    }
   ],
   "execution_count": 52
  },
  {
   "metadata": {},
   "cell_type": "code",
   "outputs": [],
   "execution_count": null,
   "source": "",
   "id": "1904de5567c377a8"
  }
 ],
 "metadata": {
  "kernelspec": {
   "display_name": "Python 3",
   "language": "python",
   "name": "python3"
  },
  "language_info": {
   "codemirror_mode": {
    "name": "ipython",
    "version": 2
   },
   "file_extension": ".py",
   "mimetype": "text/x-python",
   "name": "python",
   "nbconvert_exporter": "python",
   "pygments_lexer": "ipython2",
   "version": "2.7.6"
  }
 },
 "nbformat": 4,
 "nbformat_minor": 5
}
