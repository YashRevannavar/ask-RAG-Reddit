{
 "cells": [
  {
   "metadata": {
    "ExecuteTime": {
     "end_time": "2024-08-04T08:56:43.581688Z",
     "start_time": "2024-08-04T08:56:41.712458Z"
    }
   },
   "cell_type": "code",
   "source": "!pip install -Uq langchain_mistralai",
   "id": "2d1143fc8457e14f",
   "outputs": [
    {
     "name": "stdout",
     "output_type": "stream",
     "text": [
      "\r\n",
      "\u001B[1m[\u001B[0m\u001B[34;49mnotice\u001B[0m\u001B[1;39;49m]\u001B[0m\u001B[39;49m A new release of pip is available: \u001B[0m\u001B[31;49m24.1.2\u001B[0m\u001B[39;49m -> \u001B[0m\u001B[32;49m24.2\u001B[0m\r\n",
      "\u001B[1m[\u001B[0m\u001B[34;49mnotice\u001B[0m\u001B[1;39;49m]\u001B[0m\u001B[39;49m To update, run: \u001B[0m\u001B[32;49mpip install --upgrade pip\u001B[0m\r\n"
     ]
    }
   ],
   "execution_count": 3
  },
  {
   "cell_type": "code",
   "id": "initial_id",
   "metadata": {
    "collapsed": true,
    "ExecuteTime": {
     "end_time": "2024-08-04T09:03:22.209096Z",
     "start_time": "2024-08-04T09:03:21.944105Z"
    }
   },
   "source": [
    "from langchain_mistralai import ChatMistralAI\n",
    "from extras.constants import MISTRAL_MODEL\n",
    "llm = ChatMistralAI(\n",
    "    model=MISTRAL_MODEL,\n",
    "    temperature=0,\n",
    "    max_retries=2\n",
    "   )"
   ],
   "outputs": [],
   "execution_count": 1
  },
  {
   "metadata": {
    "ExecuteTime": {
     "end_time": "2024-08-04T09:03:24.183526Z",
     "start_time": "2024-08-04T09:03:22.936676Z"
    }
   },
   "cell_type": "code",
   "source": "res = llm.invoke(\"What is the capital of France?\")",
   "id": "e349c3c790ade3ec",
   "outputs": [],
   "execution_count": 2
  },
  {
   "metadata": {
    "ExecuteTime": {
     "end_time": "2024-08-04T09:03:24.770454Z",
     "start_time": "2024-08-04T09:03:24.765266Z"
    }
   },
   "cell_type": "code",
   "source": "res.content",
   "id": "4ef6f76acbc22d8b",
   "outputs": [
    {
     "data": {
      "text/plain": [
       "'The capital of France is Paris. This city is not only the capital but also the largest city in France. It is known for its romantic ambiance, art, fashion, gastronomy, and culture. The Eiffel Tower, Louvre Museum, and Notre-Dame Cathedral are among the famous landmarks located in Paris.'"
      ]
     },
     "execution_count": 3,
     "metadata": {},
     "output_type": "execute_result"
    }
   ],
   "execution_count": 3
  },
  {
   "metadata": {},
   "cell_type": "code",
   "outputs": [],
   "execution_count": null,
   "source": "",
   "id": "68009c2e58471716"
  }
 ],
 "metadata": {
  "kernelspec": {
   "display_name": "Python 3",
   "language": "python",
   "name": "python3"
  },
  "language_info": {
   "codemirror_mode": {
    "name": "ipython",
    "version": 2
   },
   "file_extension": ".py",
   "mimetype": "text/x-python",
   "name": "python",
   "nbconvert_exporter": "python",
   "pygments_lexer": "ipython2",
   "version": "2.7.6"
  }
 },
 "nbformat": 4,
 "nbformat_minor": 5
}
